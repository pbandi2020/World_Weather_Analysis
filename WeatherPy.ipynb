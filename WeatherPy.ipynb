{
 "cells": [
  {
   "cell_type": "code",
   "execution_count": 1,
   "metadata": {},
   "outputs": [],
   "source": [
    "# Import the dependencies.\n",
    "import pandas as pd\n",
    "import matplotlib.pyplot as plt\n",
    "import numpy as np\n",
    "from citipy import citipy"
   ]
  },
  {
   "cell_type": "code",
   "execution_count": 11,
   "metadata": {},
   "outputs": [
    {
     "data": {
      "text/plain": [
       "<zip at 0x1e89dc71bc0>"
      ]
     },
     "execution_count": 11,
     "metadata": {},
     "output_type": "execute_result"
    }
   ],
   "source": [
    "# create a list of lat and long\n",
    "lats = np.random.uniform(low=-90.000, high = 90.000, size=1500)\n",
    "long = np.random.uniform(low=-90.000, high = 90.000, size=1500)\n",
    "lat_long = zip(lats, long)\n",
    "lat_long"
   ]
  },
  {
   "cell_type": "code",
   "execution_count": 12,
   "metadata": {},
   "outputs": [],
   "source": [
    "# add the lat and long to a list\n",
    "coordinates = list(lat_long)\n",
    "# coordinates"
   ]
  },
  {
   "cell_type": "code",
   "execution_count": 13,
   "metadata": {},
   "outputs": [
    {
     "name": "stdout",
     "output_type": "stream",
     "text": [
      "593\n"
     ]
    }
   ],
   "source": [
    "# creat a list for holding cities\n",
    "cities = []\n",
    "\n",
    "# identify nearest city for each co-ordinate\n",
    "\n",
    "for i in coordinates:\n",
    "    city = citipy.nearest_city(i[0],i[1]).city_name\n",
    "    \n",
    "#    Check for duplicates\n",
    "    if city not in cities:\n",
    "        cities.append(city)\n",
    "        \n",
    "# print(cities)\n",
    "print(len(cities) )  \n"
   ]
  },
  {
   "cell_type": "code",
   "execution_count": null,
   "metadata": {},
   "outputs": [],
   "source": []
  }
 ],
 "metadata": {
  "kernelspec": {
   "display_name": "PythonData",
   "language": "python",
   "name": "pythondata"
  },
  "language_info": {
   "codemirror_mode": {
    "name": "ipython",
    "version": 3
   },
   "file_extension": ".py",
   "mimetype": "text/x-python",
   "name": "python",
   "nbconvert_exporter": "python",
   "pygments_lexer": "ipython3",
   "version": "3.8.5"
  }
 },
 "nbformat": 4,
 "nbformat_minor": 4
}
